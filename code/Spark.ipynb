{
 "cells": [
  {
   "cell_type": "code",
   "execution_count": 1,
   "metadata": {
    "collapsed": true
   },
   "outputs": [],
   "source": [
    "from pyspark import SparkContext\n",
    "from pyspark.sql import SQLContext\n",
    "from pyspark.sql.types import *\n",
    "\n",
    "# Create Spark and SQL contexts\n",
    "sc = SparkContext('spark://headnodehost:7077', 'pyspark')\n",
    "sqlContext = SQLContext(sc)\n",
    "\n",
    "# Create an RDD from the data\n",
    "storeText = sc.textFile(\"wasb://sparkcontain@richawecdb3h3.blob.core.windows.net/sparkfolder/528CommaRemoved.csv\")\n",
    "\n",
    "# create a schema\n",
    "storeSchema = StructType([StructField(\"Order_ID\", IntegerType(), False),StructField(\"Order_Date\", StringType(), False),StructField(\"Order_Priority\", StringType(), False),StructField(\"Order_Quantity\", IntegerType(), False),StructField(\"Sales\", DoubleType(), False),StructField(\"Discount\", DoubleType(), False),StructField(\"Ship_Mode\", StringType(), False),StructField(\"Profit\", DoubleType(), False),StructField(\"Unit_Price\", DoubleType(), False),StructField(\"Shipping_cost\", DoubleType(), False),StructField(\"Customer_Name\", StringType(), False),StructField(\"Province\", StringType(), False),StructField(\"Region\", StringType(), False),StructField(\"Customer_Segment\", StringType(), False),StructField(\"Product_Category\", StringType(), False),StructField(\"Product_SubCategory\", StringType(), False),StructField(\"Product_Container\", StringType(), False),StructField(\"Product_Base_Margin\", StringType(), False),StructField(\"Ship_Date\", StringType(), False)])\n",
    "\n",
    "# Parse the data\n",
    "store = storeText.map(lambda s: s.split(\",\")).filter(lambda s: s[0] != \"Order_ID\").map(lambda s:(int(s[0]), str(s[1]), str(s[2]), int(s[3]), float(s[4]), float(s[5]), str(s[6]), float(s[7]), float(s[8]), float(s[9]), str(s[10]), str(s[11]), str(s[12]), str(s[13]), str(s[14]), str(s[15]), str(s[17]), str(s[18]), str(s[19]) ))\n",
    "\n",
    "# Create a data frame\n",
    "storedf = sqlContext.createDataFrame(store,storeSchema)\n",
    "\n",
    "# Register the data fram as a table to run queries against\n",
    "storedf.registerAsTable(\"store\")"
   ]
  },
  {
   "cell_type": "code",
   "execution_count": 2,
   "metadata": {
    "collapsed": false
   },
   "outputs": [
    {
     "name": "stdout",
     "output_type": "stream",
     "text": [
      "Order_ID Order_Date Order_Priority Order_Quantity Sales     Discount Ship_Mode      Profit  Unit_Price Shipping_cost Customer_Name      Province Region  Customer_Segment Product_Category Product_SubCategory  Product_Container Product_Base_Margin Ship_Date \n",
      "3        2010-10-13 Low            6              261.54    0.04     Regular Air    -213.25 38.94      35.0          Muhammed MacIntyre Nunavut  Nunavut Small Business   Office Supplies  Storage & Organiz... Large Box         0.8                 10/20/2010\n",
      "293      2012-02-20 High           49             10123.02  0.07     Delivery Truck 457.81  208.16     68.02         Barry French       Nunavut  Nunavut Consumer         Office Supplies  Appliances           Jumbo Drum        0.58                10/2/2012 \n",
      "293      2011-07-15 High           27             244.57    0.01     Regular Air    46.71   8.69       2.99          Barry French       Nunavut  Nunavut Consumer         Office Supplies  Binders and Binde... Small Box         0.39                10/3/2012 \n",
      "483      2011-07-15 High           30             4965.7595 0.08     Regular Air    1198.97 195.99     3.99          Clay Rozendal      Nunavut  Nunavut Corporate        Technology       Telephones and Co... Small Box         0.58                7/12/2011 \n",
      "515      2011-07-15 Not Specified  19             394.27    0.08     Regular Air    30.94   21.78      5.94          Carlos Soltero     Nunavut  Nunavut Consumer         Office Supplies  Appliances           Medium Box        0.5                 8/30/2010 \n"
     ]
    }
   ],
   "source": [
    "# Sample Query - Run queries against the table and display the data\n",
    "data = sqlContext.sql(\"select * from store limit 5\")\n",
    "data.show()"
   ]
  },
  {
   "cell_type": "code",
   "execution_count": 3,
   "metadata": {
    "collapsed": false
   },
   "outputs": [
    {
     "name": "stdout",
     "output_type": "stream",
     "text": [
      "Province             sum_sales         \n",
      "British Columbia     1892757.7845000005\n",
      "Ontario              3063212.479499997 \n",
      "Nova Scotia          817729.3624999998 \n",
      "Yukon                975867.370999999  \n",
      "Nunavut              116376.4835       \n",
      "Manitoba             1372848.782       \n",
      "Newfoundland         102924.06749999998\n",
      "Saskachewan          1464455.8194999998\n",
      "Prince Edward Island 409383.25000000023\n",
      "Quebec               1510195.0799999996\n",
      "New Brunswick        684211.5235000002 \n",
      "Northwest Territo... 800847.3295000001 \n",
      "Alberta              1704791.4910000006\n"
     ]
    }
   ],
   "source": [
    "# query of sales in province\n",
    "sales_in_province = sqlContext.sql(\"select Province, sum(Sales) as sum_sales from store group by Province\")\n",
    "sales_in_province.show()"
   ]
  },
  {
   "cell_type": "code",
   "execution_count": 4,
   "metadata": {
    "collapsed": false
   },
   "outputs": [
    {
     "name": "stdout",
     "output_type": "stream",
     "text": [
      "Order_Date Sales    \n",
      "2010-10-13 261.54   \n",
      "2012-02-20 10123.02 \n",
      "2011-07-15 244.57   \n",
      "2011-07-15 4965.7595\n",
      "2011-07-15 394.27   \n",
      "2011-07-15 146.69   \n",
      "2011-10-22 93.54    \n",
      "2011-10-22 905.08   \n",
      "2011-11-02 2781.82  \n",
      "2011-03-17 228.41   \n",
      "2009-01-19 196.85   \n",
      "2009-06-03 124.56   \n",
      "2009-06-03 716.84   \n",
      "2010-12-17 1474.33  \n",
      "2010-12-17 80.61    \n",
      "2009-04-16 1815.49  \n",
      "2010-01-28 248.26   \n",
      "2012-11-18 4462.23  \n",
      "2012-05-07 663.784  \n",
      "2012-05-07 834.904  \n"
     ]
    }
   ],
   "source": [
    "# query for hoilday trend\n",
    "hoilday = sqlContext.sql(\"select Order_Date, Sales from store\")\n",
    "hoilday.show()"
   ]
  },
  {
   "cell_type": "code",
   "execution_count": 5,
   "metadata": {
    "collapsed": false
   },
   "outputs": [
    {
     "name": "stdout",
     "output_type": "stream",
     "text": [
      "Order_Date Sales    \n",
      "2010-10-13 261.54   \n",
      "2012-02-20 10123.02 \n",
      "2011-07-15 244.57   \n",
      "2011-07-15 4965.7595\n",
      "2011-07-15 394.27   \n",
      "2011-07-15 146.69   \n",
      "2011-10-22 93.54    \n",
      "2011-10-22 905.08   \n",
      "2011-11-02 2781.82  \n",
      "2011-03-17 228.41   \n",
      "2009-01-19 196.85   \n",
      "2009-06-03 124.56   \n",
      "2009-06-03 716.84   \n",
      "2010-12-17 1474.33  \n",
      "2010-12-17 80.61    \n",
      "2009-04-16 1815.49  \n",
      "2010-01-28 248.26   \n",
      "2012-11-18 4462.23  \n",
      "2012-05-07 663.784  \n",
      "2012-05-07 834.904  \n"
     ]
    }
   ],
   "source": [
    "# query for hoilday trend\n",
    "hoilday = sqlContext.sql(\"select Order_Date, Sales from store\")\n",
    "hoilday.show()"
   ]
  },
  {
   "cell_type": "code",
   "execution_count": null,
   "metadata": {
    "collapsed": true
   },
   "outputs": [],
   "source": []
  },
  {
   "cell_type": "code",
   "execution_count": 6,
   "metadata": {
    "collapsed": false
   },
   "outputs": [
    {
     "name": "stdout",
     "output_type": "stream",
     "text": [
      "sum_sales          Product_SubCategory \n",
      "1130361.2999999998 Copiers and Fax     \n",
      "80996.30999999998  Scissors Rulers a...\n",
      "736991.5400000003  Appliances          \n",
      "795875.9400000006  Computer Peripherals\n",
      "1896008.142        Tables              \n",
      "446452.8600000001  Paper               \n",
      "1889313.8020000006 Telephones and Co...\n",
      "822652.0400000003  Bookcases           \n",
      "1022957.5900000003 Binders and Binde...\n",
      "174085.80000000005 Envelopes           \n",
      "167107.21999999997 Pens & Art Supplies \n",
      "38981.55000000001  Labels              \n",
      "1070182.6000000003 Storage & Organiz...\n",
      "2168697.14         Office Machines     \n",
      "1761836.5500000003 Chairs & Chairmats  \n",
      "15006.629999999997 Rubber Bands        \n",
      "698093.81          Office Furnishings  \n"
     ]
    }
   ],
   "source": [
    "#query of product_subcategory and sum of sales\n",
    "sales_of_SubCatg = sqlContext.sql(\"select sum(Sales) as sum_sales, Product_SubCategory from store group by Product_SubCategory\")\n",
    "sales_of_SubCatg.show()"
   ]
  },
  {
   "cell_type": "code",
   "execution_count": 7,
   "metadata": {
    "collapsed": false
   },
   "outputs": [
    {
     "name": "stdout",
     "output_type": "stream",
     "text": [
      "sum_sales         Customer_Segment\n",
      "3564763.874999999 Home Office     \n",
      "2788320.989499999 Small Business  \n",
      "5498904.877500001 Corporate       \n",
      "3063611.081999996 Consumer        \n"
     ]
    }
   ],
   "source": [
    "#query of customer_segment and sum of sales\n",
    "sales_in_CustSeg = sqlContext.sql(\"select sum(Sales) as sum_sales, Customer_Segment from store group by Customer_Segment\");\n",
    "sales_in_CustSeg.show()"
   ]
  },
  {
   "cell_type": "code",
   "execution_count": null,
   "metadata": {
    "collapsed": true
   },
   "outputs": [],
   "source": []
  }
 ],
 "metadata": {
  "kernelspec": {
   "display_name": "Python 2",
   "language": "python",
   "name": "python2"
  },
  "language_info": {
   "codemirror_mode": {
    "name": "ipython",
    "version": 2
   },
   "file_extension": ".py",
   "mimetype": "text/x-python",
   "name": "python",
   "nbconvert_exporter": "python",
   "pygments_lexer": "ipython2",
   "version": "2.7.8"
  }
 },
 "nbformat": 4,
 "nbformat_minor": 0
}
